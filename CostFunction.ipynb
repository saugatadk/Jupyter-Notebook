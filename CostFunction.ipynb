{
 "cells": [
  {
   "cell_type": "code",
   "execution_count": null,
   "id": "1e54ef9b-d428-46f4-ab47-2d4bc3cf49f2",
   "metadata": {},
   "outputs": [],
   "source": [
    "import numpy as np\n",
    "import matplotlib.pyplot as plt\n",
    "import ipywidgets as widgets\n",
    "from ipywidgets import interact\n",
    "%matplotlib widget"
   ]
  },
  {
   "cell_type": "markdown",
   "id": "d4ef5b55-01aa-4bb7-8abd-b25495d1b49e",
   "metadata": {},
   "source": [
    "# Problem Statement\n",
    "\n",
    "You would like a model which can predict housing prices given the size of the house.\n",
    "\n",
    "Let's use the same two data points as before from the previous lab — a house with 1000 square feet sold for \\\\\\$300,000 and a house with 2000 square feet sold for \\\\\\$500,000.\n",
    "\n",
    "| Size (1000 sqft) | Price (1000s of dollars) |\n",
    "|------------------|---------------------------|\n",
    "| 1                | 300                       |\n",
    "| 2                | 500                       |\n"
   ]
  },
  {
   "cell_type": "code",
   "execution_count": 3,
   "id": "72d22b8c-ff43-4d18-a0d5-d86f3c883630",
   "metadata": {},
   "outputs": [],
   "source": [
    "x_train = np.array([1.0, 2.0])           #(size in 1000 square feet)\n",
    "y_train = np.array([300.0, 500.0])           #(price in 1000s of dollars)"
   ]
  },
  {
   "cell_type": "markdown",
   "id": "56dbaff2-cba0-40fa-9194-8e8697a43ff1",
   "metadata": {},
   "source": [
    "## Computing Cost\n",
    "Here, **cost** is a measure of how well our model is predicting the target price of the house. The term **\"price\"** is used for housing data.\n",
    "\n",
    "The equation for cost with one variable is:\n",
    "\n",
    "$$\n",
    "J(w,b) = \\frac{1}{2m} \\sum\\limits_{i = 0}^{m-1} \\left(f_{w,b}(x^{(i)}) - y^{(i)}\\right)^2 \\tag{1}\n",
    "$$\n",
    "\n",
    "where\n",
    "\n",
    "$$\n",
    "f_{w,b}(x^{(i)}) = wx^{(i)} + b \\tag{2}\n",
    "$$\n",
    "\n",
    "-  $ f_{w,b}(x^{(i)}) $  is our prediction for example \\( i \\) using parameters \\( w, b \\).  \n",
    "-  $ (f_{w,b}(x^{(i)}) - y^{(i)})^2 $ is the squared difference between the target value and the prediction.  \n",
    "- These differences are summed over all the \\( m \\) examples and divided by \\( 2m \\) to produce the cost, \\( J(w,b) \\).  \n",
    "\n",
    "> **Note:** In lectures, summation ranges are typically from 1 to m, while in code they will be from 0 to m-1.\n",
    "\n",
    "---\n",
    "\n",
    "The code below calculates cost by looping over each example:\n",
    "\n",
    "- `f_wb`, a prediction, is calculated  \n",
    "- the difference between the target and the prediction is calculated and squared  \n",
    "- this is added to the total cost\n"
   ]
  },
  {
   "cell_type": "code",
   "execution_count": 4,
   "id": "fc77ed00-e3f9-464a-bb01-9b86f826c480",
   "metadata": {},
   "outputs": [],
   "source": [
    "\n",
    "\n",
    "def compute_cost(x, y, w, b): \n",
    "    \"\"\"\n",
    "    Computes the cost function for linear regression.\n",
    "    \n",
    "    Args:\n",
    "      x (ndarray (m,)): Data, m examples \n",
    "      y (ndarray (m,)): target values\n",
    "      w,b (scalar)    : model parameters  \n",
    "    \n",
    "    Returns\n",
    "        total_cost (float): The cost of using w,b as the parameters for linear regression\n",
    "               to fit the data points in x and y\n",
    "    \"\"\"\n",
    "    # number of training examples\n",
    "    m = x.shape[0] \n",
    "    \n",
    "    cost_sum = 0 \n",
    "    for i in range(m): \n",
    "        f_wb = w * x[i] + b   \n",
    "        cost = (f_wb - y[i]) ** 2  \n",
    "        cost_sum = cost_sum + cost  \n",
    "    total_cost = (1 / (2 * m)) * cost_sum  \n",
    "\n",
    "    return total_cost\n",
    "\n"
   ]
  },
  {
   "cell_type": "code",
   "execution_count": 7,
   "id": "5233fc78",
   "metadata": {},
   "outputs": [
    {
     "data": {
      "application/vnd.jupyter.widget-view+json": {
       "model_id": "3f515669aca04673aeeb01911bd315c5",
       "version_major": 2,
       "version_minor": 0
      },
      "text/plain": [
       "interactive(children=(FloatSlider(value=200.0, description='w', max=400.0, step=1.0), Output()), _dom_classes=…"
      ]
     },
     "metadata": {},
     "output_type": "display_data"
    },
    {
     "data": {
      "text/plain": [
       "<function __main__.plot_with_w(w)>"
      ]
     },
     "execution_count": 7,
     "metadata": {},
     "output_type": "execute_result"
    }
   ],
   "source": [
    "def plot_with_w(w):\n",
    "    b = 100  # keep b fixed\n",
    "    x_vals = np.array([min(x_train), max(x_train)])\n",
    "    y_vals = w * x_vals + b\n",
    "    cost = compute_cost(x_train, y_train, w, b)\n",
    "    \n",
    "    fig, axs = plt.subplots(2, 1, figsize=(6, 10))\n",
    "    \n",
    "    # Top plot: Data and prediction line\n",
    "    axs[0].scatter(x_train, y_train, color='red', label='Data Points')\n",
    "    axs[0].plot(x_vals, y_vals, label=f'f(x) = {w:.1f}x + {b}')\n",
    "    axs[0].text(1.05, 400, f'J(w, b) = {cost:.2f}', fontsize=12, color='blue')\n",
    "    axs[0].set_xlabel('Size (1000 sqft)')\n",
    "    axs[0].set_ylabel('Price (1000s of dollars)')\n",
    "    axs[0].legend()\n",
    "    axs[0].set_title('Housing Prices and Prediction Function')\n",
    "    \n",
    "    # Bottom plot: Cost function J(w)\n",
    "    w_range = np.linspace(0, 400, 200)\n",
    "    j_vals = [compute_cost(x_train, y_train, w_i, b) for w_i in w_range]\n",
    "    axs[1].plot(w_range, j_vals, label='J(w, b)')\n",
    "    axs[1].scatter([w], [cost], color='red', zorder=5, label='Current w')\n",
    "    axs[1].set_xlabel('w')\n",
    "    axs[1].set_ylabel('J(w, b)')\n",
    "    axs[1].set_title('Cost Function J(w, b) vs w')\n",
    "    axs[1].legend()\n",
    "    \n",
    "    plt.tight_layout()\n",
    "    plt.show()\n",
    "\n",
    "interact(plot_with_w, w=widgets.FloatSlider(value=200, min=0, max=400, step=1, description='w'))"
   ]
  }
 ],
 "metadata": {
  "kernelspec": {
   "display_name": "ml-env",
   "language": "python",
   "name": "python3"
  },
  "language_info": {
   "codemirror_mode": {
    "name": "ipython",
    "version": 3
   },
   "file_extension": ".py",
   "mimetype": "text/x-python",
   "name": "python",
   "nbconvert_exporter": "python",
   "pygments_lexer": "ipython3",
   "version": "3.10.16"
  }
 },
 "nbformat": 4,
 "nbformat_minor": 5
}
