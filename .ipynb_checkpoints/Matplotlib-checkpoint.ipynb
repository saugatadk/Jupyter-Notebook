{
 "cells": [
  {
   "cell_type": "code",
   "execution_count": null,
   "id": "9f1d2f6b-08af-44fd-b28e-4607cfddec04",
   "metadata": {},
   "outputs": [],
   "source": []
  }
 ],
 "metadata": {
  "kernelspec": {
   "display_name": "",
   "name": ""
  },
  "language_info": {
   "name": ""
  }
 },
 "nbformat": 4,
 "nbformat_minor": 5
}
